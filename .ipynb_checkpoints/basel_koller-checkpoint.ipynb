{
 "cells": [
  {
   "cell_type": "code",
   "execution_count": 132,
   "id": "75582100",
   "metadata": {},
   "outputs": [],
   "source": [
    "import pandas as pd\n",
    "import matplotlib.pyplot as plt\n",
    "import numpy as np"
   ]
  },
  {
   "cell_type": "code",
   "execution_count": 18,
   "id": "4af7d75b",
   "metadata": {},
   "outputs": [],
   "source": [
    "df = pd.read_excel('data.xlsx')"
   ]
  },
  {
   "cell_type": "code",
   "execution_count": 19,
   "id": "0dce7667",
   "metadata": {},
   "outputs": [
    {
     "data": {
      "text/html": [
       "<div>\n",
       "<style scoped>\n",
       "    .dataframe tbody tr th:only-of-type {\n",
       "        vertical-align: middle;\n",
       "    }\n",
       "\n",
       "    .dataframe tbody tr th {\n",
       "        vertical-align: top;\n",
       "    }\n",
       "\n",
       "    .dataframe thead th {\n",
       "        text-align: right;\n",
       "    }\n",
       "</style>\n",
       "<table border=\"1\" class=\"dataframe\">\n",
       "  <thead>\n",
       "    <tr style=\"text-align: right;\">\n",
       "      <th></th>\n",
       "      <th>result</th>\n",
       "      <th>tactic</th>\n",
       "    </tr>\n",
       "  </thead>\n",
       "  <tbody>\n",
       "    <tr>\n",
       "      <th>0</th>\n",
       "      <td>1:2</td>\n",
       "      <td>4-4-2 double 6</td>\n",
       "    </tr>\n",
       "    <tr>\n",
       "      <th>1</th>\n",
       "      <td>6:1</td>\n",
       "      <td>4-4-2 double 6</td>\n",
       "    </tr>\n",
       "    <tr>\n",
       "      <th>2</th>\n",
       "      <td>4:1</td>\n",
       "      <td>4-1-4-1</td>\n",
       "    </tr>\n",
       "    <tr>\n",
       "      <th>3</th>\n",
       "      <td>1:0</td>\n",
       "      <td>4-2-3-1</td>\n",
       "    </tr>\n",
       "    <tr>\n",
       "      <th>4</th>\n",
       "      <td>0:0</td>\n",
       "      <td>4-2-3-1</td>\n",
       "    </tr>\n",
       "  </tbody>\n",
       "</table>\n",
       "</div>"
      ],
      "text/plain": [
       "  result          tactic\n",
       "0   1:2   4-4-2 double 6\n",
       "1   6:1   4-4-2 double 6\n",
       "2   4:1          4-1-4-1\n",
       "3   1:0          4-2-3-1\n",
       "4   0:0          4-2-3-1"
      ]
     },
     "execution_count": 19,
     "metadata": {},
     "output_type": "execute_result"
    }
   ],
   "source": [
    "df.head()"
   ]
  },
  {
   "cell_type": "code",
   "execution_count": 20,
   "id": "98719c05",
   "metadata": {},
   "outputs": [],
   "source": [
    "df['gf']=df['result'].apply(lambda x:x.split(':')[0])\n",
    "df['ga']=df['result'].apply(lambda x:x.split(':')[1])"
   ]
  },
  {
   "cell_type": "code",
   "execution_count": 21,
   "id": "31eb0a0c",
   "metadata": {},
   "outputs": [
    {
     "data": {
      "text/html": [
       "<div>\n",
       "<style scoped>\n",
       "    .dataframe tbody tr th:only-of-type {\n",
       "        vertical-align: middle;\n",
       "    }\n",
       "\n",
       "    .dataframe tbody tr th {\n",
       "        vertical-align: top;\n",
       "    }\n",
       "\n",
       "    .dataframe thead th {\n",
       "        text-align: right;\n",
       "    }\n",
       "</style>\n",
       "<table border=\"1\" class=\"dataframe\">\n",
       "  <thead>\n",
       "    <tr style=\"text-align: right;\">\n",
       "      <th></th>\n",
       "      <th>result</th>\n",
       "      <th>tactic</th>\n",
       "      <th>gf</th>\n",
       "      <th>ga</th>\n",
       "    </tr>\n",
       "  </thead>\n",
       "  <tbody>\n",
       "    <tr>\n",
       "      <th>0</th>\n",
       "      <td>1:2</td>\n",
       "      <td>4-4-2 double 6</td>\n",
       "      <td>1</td>\n",
       "      <td>2</td>\n",
       "    </tr>\n",
       "    <tr>\n",
       "      <th>1</th>\n",
       "      <td>6:1</td>\n",
       "      <td>4-4-2 double 6</td>\n",
       "      <td>6</td>\n",
       "      <td>1</td>\n",
       "    </tr>\n",
       "    <tr>\n",
       "      <th>2</th>\n",
       "      <td>4:1</td>\n",
       "      <td>4-1-4-1</td>\n",
       "      <td>4</td>\n",
       "      <td>1</td>\n",
       "    </tr>\n",
       "    <tr>\n",
       "      <th>3</th>\n",
       "      <td>1:0</td>\n",
       "      <td>4-2-3-1</td>\n",
       "      <td>1</td>\n",
       "      <td>0</td>\n",
       "    </tr>\n",
       "    <tr>\n",
       "      <th>4</th>\n",
       "      <td>0:0</td>\n",
       "      <td>4-2-3-1</td>\n",
       "      <td>0</td>\n",
       "      <td>0</td>\n",
       "    </tr>\n",
       "  </tbody>\n",
       "</table>\n",
       "</div>"
      ],
      "text/plain": [
       "  result          tactic gf  ga\n",
       "0   1:2   4-4-2 double 6  1  2 \n",
       "1   6:1   4-4-2 double 6  6  1 \n",
       "2   4:1          4-1-4-1  4  1 \n",
       "3   1:0          4-2-3-1  1  0 \n",
       "4   0:0          4-2-3-1  0  0 "
      ]
     },
     "execution_count": 21,
     "metadata": {},
     "output_type": "execute_result"
    }
   ],
   "source": [
    "df.head()"
   ]
  },
  {
   "cell_type": "code",
   "execution_count": 22,
   "id": "c16d362b",
   "metadata": {},
   "outputs": [
    {
     "name": "stdout",
     "output_type": "stream",
     "text": [
      "<class 'pandas.core.frame.DataFrame'>\n",
      "RangeIndex: 101 entries, 0 to 100\n",
      "Data columns (total 4 columns):\n",
      " #   Column  Non-Null Count  Dtype \n",
      "---  ------  --------------  ----- \n",
      " 0   result  101 non-null    object\n",
      " 1   tactic  101 non-null    object\n",
      " 2   gf      101 non-null    object\n",
      " 3   ga      101 non-null    object\n",
      "dtypes: object(4)\n",
      "memory usage: 3.3+ KB\n"
     ]
    }
   ],
   "source": [
    "df.info()"
   ]
  },
  {
   "cell_type": "code",
   "execution_count": 23,
   "id": "a42bcb66",
   "metadata": {},
   "outputs": [],
   "source": [
    "df['gf']=df['gf'].astype(int)\n",
    "df['ga']=df['ga'].astype(int)"
   ]
  },
  {
   "cell_type": "code",
   "execution_count": 10,
   "id": "343a393a",
   "metadata": {},
   "outputs": [
    {
     "name": "stdout",
     "output_type": "stream",
     "text": [
      "<class 'pandas.core.frame.DataFrame'>\n",
      "RangeIndex: 101 entries, 0 to 100\n",
      "Data columns (total 4 columns):\n",
      " #   Column  Non-Null Count  Dtype \n",
      "---  ------  --------------  ----- \n",
      " 0   result  101 non-null    object\n",
      " 1   tactic  101 non-null    object\n",
      " 2   gf      101 non-null    int32 \n",
      " 3   ga      101 non-null    int32 \n",
      "dtypes: int32(2), object(2)\n",
      "memory usage: 2.5+ KB\n"
     ]
    }
   ],
   "source": [
    "df.info()"
   ]
  },
  {
   "cell_type": "code",
   "execution_count": 24,
   "id": "bdbfff91",
   "metadata": {},
   "outputs": [],
   "source": [
    "df['gd']=df['gf']-df['ga']"
   ]
  },
  {
   "cell_type": "code",
   "execution_count": 28,
   "id": "a1c6aed7",
   "metadata": {},
   "outputs": [],
   "source": [
    "df['result-str']=df['result']"
   ]
  },
  {
   "cell_type": "code",
   "execution_count": 29,
   "id": "68aff32e",
   "metadata": {},
   "outputs": [
    {
     "data": {
      "text/html": [
       "<div>\n",
       "<style scoped>\n",
       "    .dataframe tbody tr th:only-of-type {\n",
       "        vertical-align: middle;\n",
       "    }\n",
       "\n",
       "    .dataframe tbody tr th {\n",
       "        vertical-align: top;\n",
       "    }\n",
       "\n",
       "    .dataframe thead th {\n",
       "        text-align: right;\n",
       "    }\n",
       "</style>\n",
       "<table border=\"1\" class=\"dataframe\">\n",
       "  <thead>\n",
       "    <tr style=\"text-align: right;\">\n",
       "      <th></th>\n",
       "      <th>result</th>\n",
       "      <th>tactic</th>\n",
       "      <th>gf</th>\n",
       "      <th>ga</th>\n",
       "      <th>gd</th>\n",
       "      <th>result-str</th>\n",
       "    </tr>\n",
       "  </thead>\n",
       "  <tbody>\n",
       "    <tr>\n",
       "      <th>0</th>\n",
       "      <td>1:2</td>\n",
       "      <td>4-4-2 double 6</td>\n",
       "      <td>1</td>\n",
       "      <td>2</td>\n",
       "      <td>-1</td>\n",
       "      <td>1:2</td>\n",
       "    </tr>\n",
       "    <tr>\n",
       "      <th>1</th>\n",
       "      <td>6:1</td>\n",
       "      <td>4-4-2 double 6</td>\n",
       "      <td>6</td>\n",
       "      <td>1</td>\n",
       "      <td>5</td>\n",
       "      <td>6:1</td>\n",
       "    </tr>\n",
       "    <tr>\n",
       "      <th>2</th>\n",
       "      <td>4:1</td>\n",
       "      <td>4-1-4-1</td>\n",
       "      <td>4</td>\n",
       "      <td>1</td>\n",
       "      <td>3</td>\n",
       "      <td>4:1</td>\n",
       "    </tr>\n",
       "    <tr>\n",
       "      <th>3</th>\n",
       "      <td>1:0</td>\n",
       "      <td>4-2-3-1</td>\n",
       "      <td>1</td>\n",
       "      <td>0</td>\n",
       "      <td>1</td>\n",
       "      <td>1:0</td>\n",
       "    </tr>\n",
       "    <tr>\n",
       "      <th>4</th>\n",
       "      <td>0:0</td>\n",
       "      <td>4-2-3-1</td>\n",
       "      <td>0</td>\n",
       "      <td>0</td>\n",
       "      <td>0</td>\n",
       "      <td>0:0</td>\n",
       "    </tr>\n",
       "  </tbody>\n",
       "</table>\n",
       "</div>"
      ],
      "text/plain": [
       "  result          tactic  gf  ga  gd result-str\n",
       "0   1:2   4-4-2 double 6   1   2  -1       1:2 \n",
       "1   6:1   4-4-2 double 6   6   1   5       6:1 \n",
       "2   4:1          4-1-4-1   4   1   3       4:1 \n",
       "3   1:0          4-2-3-1   1   0   1       1:0 \n",
       "4   0:0          4-2-3-1   0   0   0       0:0 "
      ]
     },
     "execution_count": 29,
     "metadata": {},
     "output_type": "execute_result"
    }
   ],
   "source": [
    "df.head()"
   ]
  },
  {
   "cell_type": "code",
   "execution_count": 47,
   "id": "e4866103",
   "metadata": {},
   "outputs": [],
   "source": [
    "results =[]\n",
    "for i in range(len(df.gd)):\n",
    "    if df.gd[i]==0:\n",
    "        results.append('d')\n",
    "    elif df.gd[i]>0:\n",
    "        results.append('w')\n",
    "    else:\n",
    "        results.append('l')"
   ]
  },
  {
   "cell_type": "code",
   "execution_count": 48,
   "id": "93882097",
   "metadata": {},
   "outputs": [],
   "source": [
    "df=df.assign(res=results)"
   ]
  },
  {
   "cell_type": "code",
   "execution_count": 50,
   "id": "94518464",
   "metadata": {},
   "outputs": [],
   "source": [
    "df.drop('result-str',inplace=True,axis=1)"
   ]
  },
  {
   "cell_type": "code",
   "execution_count": 51,
   "id": "99c1414d",
   "metadata": {},
   "outputs": [
    {
     "data": {
      "text/html": [
       "<div>\n",
       "<style scoped>\n",
       "    .dataframe tbody tr th:only-of-type {\n",
       "        vertical-align: middle;\n",
       "    }\n",
       "\n",
       "    .dataframe tbody tr th {\n",
       "        vertical-align: top;\n",
       "    }\n",
       "\n",
       "    .dataframe thead th {\n",
       "        text-align: right;\n",
       "    }\n",
       "</style>\n",
       "<table border=\"1\" class=\"dataframe\">\n",
       "  <thead>\n",
       "    <tr style=\"text-align: right;\">\n",
       "      <th></th>\n",
       "      <th>result</th>\n",
       "      <th>tactic</th>\n",
       "      <th>gf</th>\n",
       "      <th>ga</th>\n",
       "      <th>gd</th>\n",
       "      <th>res</th>\n",
       "    </tr>\n",
       "  </thead>\n",
       "  <tbody>\n",
       "    <tr>\n",
       "      <th>0</th>\n",
       "      <td>1:2</td>\n",
       "      <td>4-4-2 double 6</td>\n",
       "      <td>1</td>\n",
       "      <td>2</td>\n",
       "      <td>-1</td>\n",
       "      <td>l</td>\n",
       "    </tr>\n",
       "    <tr>\n",
       "      <th>1</th>\n",
       "      <td>6:1</td>\n",
       "      <td>4-4-2 double 6</td>\n",
       "      <td>6</td>\n",
       "      <td>1</td>\n",
       "      <td>5</td>\n",
       "      <td>w</td>\n",
       "    </tr>\n",
       "    <tr>\n",
       "      <th>2</th>\n",
       "      <td>4:1</td>\n",
       "      <td>4-1-4-1</td>\n",
       "      <td>4</td>\n",
       "      <td>1</td>\n",
       "      <td>3</td>\n",
       "      <td>w</td>\n",
       "    </tr>\n",
       "    <tr>\n",
       "      <th>3</th>\n",
       "      <td>1:0</td>\n",
       "      <td>4-2-3-1</td>\n",
       "      <td>1</td>\n",
       "      <td>0</td>\n",
       "      <td>1</td>\n",
       "      <td>w</td>\n",
       "    </tr>\n",
       "    <tr>\n",
       "      <th>4</th>\n",
       "      <td>0:0</td>\n",
       "      <td>4-2-3-1</td>\n",
       "      <td>0</td>\n",
       "      <td>0</td>\n",
       "      <td>0</td>\n",
       "      <td>d</td>\n",
       "    </tr>\n",
       "  </tbody>\n",
       "</table>\n",
       "</div>"
      ],
      "text/plain": [
       "  result          tactic  gf  ga  gd res\n",
       "0   1:2   4-4-2 double 6   1   2  -1   l\n",
       "1   6:1   4-4-2 double 6   6   1   5   w\n",
       "2   4:1          4-1-4-1   4   1   3   w\n",
       "3   1:0          4-2-3-1   1   0   1   w\n",
       "4   0:0          4-2-3-1   0   0   0   d"
      ]
     },
     "execution_count": 51,
     "metadata": {},
     "output_type": "execute_result"
    }
   ],
   "source": [
    "df.head()"
   ]
  },
  {
   "cell_type": "code",
   "execution_count": 52,
   "id": "6d22a81d",
   "metadata": {},
   "outputs": [
    {
     "data": {
      "text/plain": [
       "tactic\n",
       "3-4-2-1           -2.000000\n",
       "3-4-3             -1.000000\n",
       "4-1-4-1            3.000000\n",
       "4-2-3-1            0.033333\n",
       "4-3-3 Attacking    1.000000\n",
       "4-4-2             -1.000000\n",
       "4-4-2 double 6     1.833333\n",
       "Name: gd, dtype: float64"
      ]
     },
     "execution_count": 52,
     "metadata": {},
     "output_type": "execute_result"
    }
   ],
   "source": [
    "df.groupby('tactic')['gd'].mean()"
   ]
  },
  {
   "cell_type": "code",
   "execution_count": 56,
   "id": "15425bbb",
   "metadata": {},
   "outputs": [],
   "source": [
    "points =[]\n",
    "for i in range(len(df.gd)):\n",
    "    if df.gd[i]==0:\n",
    "        points.append(1)\n",
    "    elif df.gd[i]>0:\n",
    "        points.append(3)\n",
    "    else:\n",
    "        points.append(0)"
   ]
  },
  {
   "cell_type": "code",
   "execution_count": 57,
   "id": "6769c72d",
   "metadata": {},
   "outputs": [],
   "source": [
    "df=df.assign(points=points)"
   ]
  },
  {
   "cell_type": "code",
   "execution_count": 58,
   "id": "e965c750",
   "metadata": {},
   "outputs": [
    {
     "data": {
      "text/html": [
       "<div>\n",
       "<style scoped>\n",
       "    .dataframe tbody tr th:only-of-type {\n",
       "        vertical-align: middle;\n",
       "    }\n",
       "\n",
       "    .dataframe tbody tr th {\n",
       "        vertical-align: top;\n",
       "    }\n",
       "\n",
       "    .dataframe thead th {\n",
       "        text-align: right;\n",
       "    }\n",
       "</style>\n",
       "<table border=\"1\" class=\"dataframe\">\n",
       "  <thead>\n",
       "    <tr style=\"text-align: right;\">\n",
       "      <th></th>\n",
       "      <th>result</th>\n",
       "      <th>tactic</th>\n",
       "      <th>gf</th>\n",
       "      <th>ga</th>\n",
       "      <th>gd</th>\n",
       "      <th>res</th>\n",
       "      <th>points</th>\n",
       "    </tr>\n",
       "  </thead>\n",
       "  <tbody>\n",
       "    <tr>\n",
       "      <th>0</th>\n",
       "      <td>1:2</td>\n",
       "      <td>4-4-2 double 6</td>\n",
       "      <td>1</td>\n",
       "      <td>2</td>\n",
       "      <td>-1</td>\n",
       "      <td>l</td>\n",
       "      <td>0</td>\n",
       "    </tr>\n",
       "    <tr>\n",
       "      <th>1</th>\n",
       "      <td>6:1</td>\n",
       "      <td>4-4-2 double 6</td>\n",
       "      <td>6</td>\n",
       "      <td>1</td>\n",
       "      <td>5</td>\n",
       "      <td>w</td>\n",
       "      <td>3</td>\n",
       "    </tr>\n",
       "    <tr>\n",
       "      <th>2</th>\n",
       "      <td>4:1</td>\n",
       "      <td>4-1-4-1</td>\n",
       "      <td>4</td>\n",
       "      <td>1</td>\n",
       "      <td>3</td>\n",
       "      <td>w</td>\n",
       "      <td>3</td>\n",
       "    </tr>\n",
       "    <tr>\n",
       "      <th>3</th>\n",
       "      <td>1:0</td>\n",
       "      <td>4-2-3-1</td>\n",
       "      <td>1</td>\n",
       "      <td>0</td>\n",
       "      <td>1</td>\n",
       "      <td>w</td>\n",
       "      <td>3</td>\n",
       "    </tr>\n",
       "    <tr>\n",
       "      <th>4</th>\n",
       "      <td>0:0</td>\n",
       "      <td>4-2-3-1</td>\n",
       "      <td>0</td>\n",
       "      <td>0</td>\n",
       "      <td>0</td>\n",
       "      <td>d</td>\n",
       "      <td>1</td>\n",
       "    </tr>\n",
       "  </tbody>\n",
       "</table>\n",
       "</div>"
      ],
      "text/plain": [
       "  result          tactic  gf  ga  gd res  points\n",
       "0   1:2   4-4-2 double 6   1   2  -1   l       0\n",
       "1   6:1   4-4-2 double 6   6   1   5   w       3\n",
       "2   4:1          4-1-4-1   4   1   3   w       3\n",
       "3   1:0          4-2-3-1   1   0   1   w       3\n",
       "4   0:0          4-2-3-1   0   0   0   d       1"
      ]
     },
     "execution_count": 58,
     "metadata": {},
     "output_type": "execute_result"
    }
   ],
   "source": [
    "df.head()"
   ]
  },
  {
   "cell_type": "code",
   "execution_count": 70,
   "id": "fdbfcdc4",
   "metadata": {},
   "outputs": [
    {
     "data": {
      "text/plain": [
       "Text(0.5, 0, 'tactic')"
      ]
     },
     "execution_count": 70,
     "metadata": {},
     "output_type": "execute_result"
    },
    {
     "data": {
      "image/png": "[encoded data removed]",
      "text/plain": [
       "<Figure size 432x288 with 1 Axes>"
      ]
     },
     "metadata": {
      "needs_background": "light"
     },
     "output_type": "display_data"
    }
   ],
   "source": [
    "df.groupby('tactic')['points'].mean().plot(kind='bar');\n",
    "plt.title('tactics\\' average points', fontsize=18)\n",
    "plt.ylabel('points', fontsize=14)\n",
    "plt.xlabel('tactic', fontsize=14)"
   ]
  },
  {
   "cell_type": "code",
   "execution_count": 63,
   "id": "2410f309",
   "metadata": {},
   "outputs": [
    {
     "data": {
      "image/png": "[encoded data removed]",
      "text/plain": [
       "<Figure size 576x576 with 16 Axes>"
      ]
     },
     "metadata": {
      "needs_background": "light"
     },
     "output_type": "display_data"
    }
   ],
   "source": [
    "pd.plotting.scatter_matrix(df, figsize = (8,8));"
   ]
  },
  {
   "cell_type": "code",
   "execution_count": 65,
   "id": "949c1c67",
   "metadata": {},
   "outputs": [
    {
     "data": {
      "image/png": "[encoded data removed]",
      "text/plain": [
       "<Figure size 432x288 with 1 Axes>"
      ]
     },
     "metadata": {
      "needs_background": "light"
     },
     "output_type": "display_data"
    }
   ],
   "source": [
    "df.tactic.hist();"
   ]
  },
  {
   "cell_type": "code",
   "execution_count": 72,
   "id": "f41d6cd5",
   "metadata": {},
   "outputs": [
    {
     "data": {
      "text/plain": [
       "tactic\n",
       "3-4-2-1            3.0\n",
       "3-4-3              1.0\n",
       "4-1-4-1            1.0\n",
       "4-2-3-1            1.6\n",
       "4-3-3 Attacking    0.0\n",
       "4-4-2              2.0\n",
       "4-4-2 double 6     1.0\n",
       "Name: ga, dtype: float64"
      ]
     },
     "execution_count": 72,
     "metadata": {},
     "output_type": "execute_result"
    }
   ],
   "source": [
    "df.groupby('tactic')['ga'].mean()"
   ]
  },
  {
   "cell_type": "code",
   "execution_count": 98,
   "id": "60b29e64",
   "metadata": {},
   "outputs": [],
   "source": [
    "tacdf=df.groupby('tactic')['res'].value_counts().to_frame()\n"
   ]
  },
  {
   "cell_type": "code",
   "execution_count": 108,
   "id": "7799a28d",
   "metadata": {},
   "outputs": [],
   "source": [
    "tacdf[\"tactic\",\"result\"]=tacdf.index"
   ]
  },
  {
   "cell_type": "code",
   "execution_count": 122,
   "id": "6fc51a69",
   "metadata": {},
   "outputs": [],
   "source": [
    "tacdf['tactic']=tacdf[\"tactic\", \"result\"].apply(lambda x:x[0])\n",
    "tacdf['result']=tacdf[\"tactic\", \"result\"].apply(lambda x:x[1])"
   ]
  },
  {
   "cell_type": "code",
   "execution_count": 130,
   "id": "7d4d56a0",
   "metadata": {},
   "outputs": [],
   "source": [
    "tacdf.drop(tacdf.columns[1],axis = 1,inplace=True)"
   ]
  },
  {
   "cell_type": "code",
   "execution_count": 139,
   "id": "4d2faef6",
   "metadata": {},
   "outputs": [],
   "source": [
    "tacdf.rename({'res':'count'},axis=1,inplace=True)"
   ]
  },
  {
   "cell_type": "code",
   "execution_count": 137,
   "id": "fb46e1e0",
   "metadata": {},
   "outputs": [],
   "source": [
    "tacdf.index= np.arange(0,len(tacdf['result']),1)"
   ]
  },
  {
   "cell_type": "code",
   "execution_count": 140,
   "id": "2a25ca2b",
   "metadata": {},
   "outputs": [
    {
     "data": {
      "text/html": [
       "<div>\n",
       "<style scoped>\n",
       "    .dataframe tbody tr th:only-of-type {\n",
       "        vertical-align: middle;\n",
       "    }\n",
       "\n",
       "    .dataframe tbody tr th {\n",
       "        vertical-align: top;\n",
       "    }\n",
       "\n",
       "    .dataframe thead th {\n",
       "        text-align: right;\n",
       "    }\n",
       "</style>\n",
       "<table border=\"1\" class=\"dataframe\">\n",
       "  <thead>\n",
       "    <tr style=\"text-align: right;\">\n",
       "      <th></th>\n",
       "      <th>count</th>\n",
       "      <th>tactic</th>\n",
       "      <th>result</th>\n",
       "    </tr>\n",
       "  </thead>\n",
       "  <tbody>\n",
       "    <tr>\n",
       "      <th>0</th>\n",
       "      <td>1</td>\n",
       "      <td>3-4-2-1</td>\n",
       "      <td>l</td>\n",
       "    </tr>\n",
       "    <tr>\n",
       "      <th>1</th>\n",
       "      <td>1</td>\n",
       "      <td>3-4-3</td>\n",
       "      <td>l</td>\n",
       "    </tr>\n",
       "    <tr>\n",
       "      <th>2</th>\n",
       "      <td>1</td>\n",
       "      <td>4-1-4-1</td>\n",
       "      <td>w</td>\n",
       "    </tr>\n",
       "    <tr>\n",
       "      <th>3</th>\n",
       "      <td>39</td>\n",
       "      <td>4-2-3-1</td>\n",
       "      <td>w</td>\n",
       "    </tr>\n",
       "    <tr>\n",
       "      <th>4</th>\n",
       "      <td>32</td>\n",
       "      <td>4-2-3-1</td>\n",
       "      <td>l</td>\n",
       "    </tr>\n",
       "    <tr>\n",
       "      <th>5</th>\n",
       "      <td>19</td>\n",
       "      <td>4-2-3-1</td>\n",
       "      <td>d</td>\n",
       "    </tr>\n",
       "    <tr>\n",
       "      <th>6</th>\n",
       "      <td>1</td>\n",
       "      <td>4-3-3 Attacking</td>\n",
       "      <td>w</td>\n",
       "    </tr>\n",
       "    <tr>\n",
       "      <th>7</th>\n",
       "      <td>1</td>\n",
       "      <td>4-4-2</td>\n",
       "      <td>l</td>\n",
       "    </tr>\n",
       "    <tr>\n",
       "      <th>8</th>\n",
       "      <td>5</td>\n",
       "      <td>4-4-2 double 6</td>\n",
       "      <td>w</td>\n",
       "    </tr>\n",
       "    <tr>\n",
       "      <th>9</th>\n",
       "      <td>1</td>\n",
       "      <td>4-4-2 double 6</td>\n",
       "      <td>l</td>\n",
       "    </tr>\n",
       "  </tbody>\n",
       "</table>\n",
       "</div>"
      ],
      "text/plain": [
       "   count           tactic result\n",
       "0      1          3-4-2-1      l\n",
       "1      1            3-4-3      l\n",
       "2      1          4-1-4-1      w\n",
       "3     39          4-2-3-1      w\n",
       "4     32          4-2-3-1      l\n",
       "5     19          4-2-3-1      d\n",
       "6      1  4-3-3 Attacking      w\n",
       "7      1            4-4-2      l\n",
       "8      5   4-4-2 double 6      w\n",
       "9      1   4-4-2 double 6      l"
      ]
     },
     "execution_count": 140,
     "metadata": {},
     "output_type": "execute_result"
    }
   ],
   "source": [
    "tacdf"
   ]
  },
  {
   "cell_type": "code",
   "execution_count": 144,
   "id": "51f13e85",
   "metadata": {},
   "outputs": [
    {
     "data": {
      "image/png": "[encoded data removed]",
      "text/plain": [
       "<Figure size 432x288 with 1 Axes>"
      ]
     },
     "metadata": {
      "needs_background": "light"
     },
     "output_type": "display_data"
    }
   ],
   "source": [
    "tacdf.query('tactic == \"4-2-3-1\"').plot(kind='bar',x='result',y='count');\n",
    "plt.title('4-2-3-1 results' ,fontsize=18)\n",
    "plt.legend()\n",
    "plt.show()\n"
   ]
  },
  {
   "cell_type": "code",
   "execution_count": 146,
   "id": "adf9d69d",
   "metadata": {},
   "outputs": [
    {
     "data": {
      "image/png": "[encoded data removed]",
      "text/plain": [
       "<Figure size 432x288 with 1 Axes>"
      ]
     },
     "metadata": {
      "needs_background": "light"
     },
     "output_type": "display_data"
    }
   ],
   "source": [
    "tacdf.query('tactic == \"4-4-2 double 6\"').plot(kind='bar',x='result',y='count');\n",
    "plt.title('4-4-2 double 6 results' ,fontsize=18)\n",
    "plt.legend()\n",
    "plt.show()"
   ]
  },
  {
   "cell_type": "code",
   "execution_count": null,
   "id": "ffdcbe36",
   "metadata": {},
   "outputs": [],
   "source": []
  }
 ],
 "metadata": {
  "kernelspec": {
   "display_name": "Python 3 (ipykernel)",
   "language": "python",
   "name": "python3"
  },
  "language_info": {
   "codemirror_mode": {
    "name": "ipython",
    "version": 3
   },
   "file_extension": ".py",
   "mimetype": "text/x-python",
   "name": "python",
   "nbconvert_exporter": "python",
   "pygments_lexer": "ipython3",
   "version": "3.10.5"
  }
 },
 "nbformat": 4,
 "nbformat_minor": 5
}
