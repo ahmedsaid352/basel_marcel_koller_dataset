{
 "cells": [
  {
   "cell_type": "code",
   "execution_count": 1,
   "id": "eb81dcae",
   "metadata": {},
   "outputs": [],
   "source": [
    "from bs4 import BeautifulSoup\n",
    "import pandas as pd"
   ]
  },
  {
   "cell_type": "code",
   "execution_count": 2,
   "id": "c322da65",
   "metadata": {},
   "outputs": [],
   "source": [
    "with open('html.txt', 'r') as file:\n",
    "    html = file.read().replace('\\n', '')\n",
    "\n",
    "soup = BeautifulSoup(html, 'html.parser')"
   ]
  },
  {
   "cell_type": "code",
   "execution_count": 25,
   "id": "aaaa00c4",
   "metadata": {},
   "outputs": [],
   "source": [
    "result=[]\n",
    "tactic =[]\n",
    "string_results =[]\n",
    "\n",
    "tactic_ele = soup.select('#yw1 > table > tbody > tr > td:nth-child(10)')\n",
    "result_ele = soup.select('#yw1 > table > tbody > tr > td.zentriert.hauptlink')"
   ]
  },
  {
   "cell_type": "code",
   "execution_count": 26,
   "id": "8a7e967d",
   "metadata": {},
   "outputs": [],
   "source": [
    "for i in range(len(result_ele)):\n",
    "    result.append(result_ele[i].text)\n",
    "    tactic.append(tactic_ele[i].text)\n",
    "    if 'redtext' in str(result_ele[i]):\n",
    "        string_results.append('L')\n",
    "    elif 'greentext' in str(result_ele[i]):\n",
    "        string_results.append('W')\n",
    "    else:\n",
    "        string_results.append('D')"
   ]
  },
  {
   "cell_type": "code",
   "execution_count": 27,
   "id": "fd5be58b",
   "metadata": {},
   "outputs": [],
   "source": [
    "information = {\n",
    "    'result':result,\n",
    "    'tactic':tactic,\n",
    "    'basel result':string_results,\n",
    "}\n",
    "df = pd.DataFrame(information)\n",
    "df.to_excel('data2.xlsx',index=False)"
   ]
  },
  {
   "cell_type": "code",
   "execution_count": null,
   "id": "323752d9",
   "metadata": {},
   "outputs": [],
   "source": []
  },
  {
   "cell_type": "code",
   "execution_count": null,
   "id": "fbd893e3",
   "metadata": {},
   "outputs": [],
   "source": []
  },
  {
   "cell_type": "code",
   "execution_count": null,
   "id": "3479ff76",
   "metadata": {},
   "outputs": [],
   "source": []
  }
 ],
 "metadata": {
  "kernelspec": {
   "display_name": "Python 3 (ipykernel)",
   "language": "python",
   "name": "python3"
  },
  "language_info": {
   "codemirror_mode": {
    "name": "ipython",
    "version": 3
   },
   "file_extension": ".py",
   "mimetype": "text/x-python",
   "name": "python",
   "nbconvert_exporter": "python",
   "pygments_lexer": "ipython3",
   "version": "3.10.5"
  }
 },
 "nbformat": 4,
 "nbformat_minor": 5
}
