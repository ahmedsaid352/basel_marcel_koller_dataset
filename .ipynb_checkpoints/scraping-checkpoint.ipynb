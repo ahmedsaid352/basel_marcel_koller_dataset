{
 "cells": [
  {
   "cell_type": "code",
   "execution_count": 1,
   "id": "f38cdfc8",
   "metadata": {},
   "outputs": [],
   "source": [
    "from bs4 import BeautifulSoup\n",
    "import pandas as pd"
   ]
  },
  {
   "cell_type": "code",
   "execution_count": 2,
   "id": "98ba43c3",
   "metadata": {},
   "outputs": [],
   "source": [
    "with open('html.txt', 'r') as file:\n",
    "    html = file.read().replace('\\n', '')\n",
    "\n",
    "soup = BeautifulSoup(html, 'html.parser')"
   ]
  },
  {
   "cell_type": "code",
   "execution_count": 41,
   "id": "7cbeabd9",
   "metadata": {},
   "outputs": [],
   "source": [
    "result=[]\n",
    "tactic =[]\n",
    "string_results =[]\n",
    "competitions=[]\n",
    "hteams=[]\n",
    "ateams=[]\n",
    "\n",
    "tactic_ele = soup.select('#yw1 > table > tbody > tr > td:nth-child(10)')\n",
    "result_ele = soup.select('#yw1 > table > tbody > tr > td.zentriert.hauptlink')\n",
    "comp_ele = soup.select('#yw1 > table > tbody > tr > td:nth-child(2) > a > img')\n",
    "home_ele = soup.select('#yw1 > table > tbody > tr > td.rechts.hauptlink.no-border-rechts > a')\n",
    "away_ele = soup.select('#yw1 > table > tbody > tr > td.hauptlink.no-border-links > a')"
   ]
  },
  {
   "cell_type": "code",
   "execution_count": 43,
   "id": "89ac2019",
   "metadata": {},
   "outputs": [],
   "source": [
    "for i in range(len(result_ele)):\n",
    "    result.append(result_ele[i].text)\n",
    "    tactic.append(tactic_ele[i].text)\n",
    "    hteams.append(home_ele[i].text)\n",
    "    ateams.append(away_ele[i].text)\n",
    "    competitions.append(comp_ele[i]['alt'])\n",
    "    if 'redtext' in str(result_ele[i]):\n",
    "        string_results.append('L')\n",
    "    elif 'greentext' in str(result_ele[i]):\n",
    "        string_results.append('W')\n",
    "    else:\n",
    "        string_results.append('D')"
   ]
  },
  {
   "cell_type": "code",
   "execution_count": 44,
   "id": "f099d35a",
   "metadata": {},
   "outputs": [],
   "source": [
    "information = {\n",
    "    'competition':competitions,\n",
    "    'home_team':hteams,\n",
    "    'result':result,\n",
    "    'away_team':ateams,\n",
    "    'tactic':tactic,\n",
    "    'basel_result':string_results,\n",
    "    \n",
    "}\n",
    "df = pd.DataFrame(information)\n",
    "df.to_excel('data2.xlsx',index=False)"
   ]
  },
  {
   "cell_type": "code",
   "execution_count": null,
   "id": "fe170e8d",
   "metadata": {},
   "outputs": [],
   "source": []
  },
  {
   "cell_type": "code",
   "execution_count": null,
   "id": "cfbb1669",
   "metadata": {},
   "outputs": [],
   "source": []
  },
  {
   "cell_type": "code",
   "execution_count": null,
   "id": "c5bd9676",
   "metadata": {},
   "outputs": [],
   "source": []
  }
 ],
 "metadata": {
  "kernelspec": {
   "display_name": "Python 3 (ipykernel)",
   "language": "python",
   "name": "python3"
  },
  "language_info": {
   "codemirror_mode": {
    "name": "ipython",
    "version": 3
   },
   "file_extension": ".py",
   "mimetype": "text/x-python",
   "name": "python",
   "nbconvert_exporter": "python",
   "pygments_lexer": "ipython3",
   "version": "3.10.5"
  }
 },
 "nbformat": 4,
 "nbformat_minor": 5
}
