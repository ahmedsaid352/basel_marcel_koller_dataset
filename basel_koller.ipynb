{
 "cells": [
  {
   "cell_type": "code",
   "execution_count": 1,
   "id": "75582100",
   "metadata": {},
   "outputs": [],
   "source": [
    "import pandas as pd\n",
    "import matplotlib.pyplot as plt\n",
    "import numpy as np"
   ]
  },
  {
   "cell_type": "code",
   "execution_count": 2,
   "id": "4af7d75b",
   "metadata": {},
   "outputs": [],
   "source": [
    "df = pd.read_excel('data.xlsx')"
   ]
  },
  {
   "cell_type": "code",
   "execution_count": 3,
   "id": "0dce7667",
   "metadata": {},
   "outputs": [
    {
     "data": {
      "text/html": [
       "<div>\n",
       "<style scoped>\n",
       "    .dataframe tbody tr th:only-of-type {\n",
       "        vertical-align: middle;\n",
       "    }\n",
       "\n",
       "    .dataframe tbody tr th {\n",
       "        vertical-align: top;\n",
       "    }\n",
       "\n",
       "    .dataframe thead th {\n",
       "        text-align: right;\n",
       "    }\n",
       "</style>\n",
       "<table border=\"1\" class=\"dataframe\">\n",
       "  <thead>\n",
       "    <tr style=\"text-align: right;\">\n",
       "      <th></th>\n",
       "      <th>competition</th>\n",
       "      <th>home_team</th>\n",
       "      <th>result</th>\n",
       "      <th>away_team</th>\n",
       "      <th>tactic</th>\n",
       "      <th>basel_result</th>\n",
       "    </tr>\n",
       "  </thead>\n",
       "  <tbody>\n",
       "    <tr>\n",
       "      <th>0</th>\n",
       "      <td>Swiss Cup</td>\n",
       "      <td>FC Basel</td>\n",
       "      <td>1:2</td>\n",
       "      <td>BSC Young Boys</td>\n",
       "      <td>4-4-2 double 6</td>\n",
       "      <td>L</td>\n",
       "    </tr>\n",
       "    <tr>\n",
       "      <th>1</th>\n",
       "      <td>Swiss Cup</td>\n",
       "      <td>FC Basel</td>\n",
       "      <td>6:1</td>\n",
       "      <td>FC Winterthur</td>\n",
       "      <td>4-4-2 double 6</td>\n",
       "      <td>W</td>\n",
       "    </tr>\n",
       "    <tr>\n",
       "      <th>2</th>\n",
       "      <td>Europa League</td>\n",
       "      <td>Shakhtar D.</td>\n",
       "      <td>4:1</td>\n",
       "      <td>FC Basel</td>\n",
       "      <td>4-1-4-1</td>\n",
       "      <td>L</td>\n",
       "    </tr>\n",
       "    <tr>\n",
       "      <th>3</th>\n",
       "      <td>Europa League</td>\n",
       "      <td>FC Basel</td>\n",
       "      <td>1:0</td>\n",
       "      <td>E. Frankfurt</td>\n",
       "      <td>4-2-3-1</td>\n",
       "      <td>W</td>\n",
       "    </tr>\n",
       "    <tr>\n",
       "      <th>4</th>\n",
       "      <td>Super League</td>\n",
       "      <td>FC Basel</td>\n",
       "      <td>0:0</td>\n",
       "      <td>FC Luzern</td>\n",
       "      <td>4-2-3-1</td>\n",
       "      <td>D</td>\n",
       "    </tr>\n",
       "  </tbody>\n",
       "</table>\n",
       "</div>"
      ],
      "text/plain": [
       "     competition    home_team result       away_team          tactic  \\\n",
       "0      Swiss Cup     FC Basel   1:2   BSC Young Boys  4-4-2 double 6   \n",
       "1      Swiss Cup     FC Basel   6:1    FC Winterthur  4-4-2 double 6   \n",
       "2  Europa League  Shakhtar D.   4:1         FC Basel         4-1-4-1   \n",
       "3  Europa League     FC Basel   1:0     E. Frankfurt         4-2-3-1   \n",
       "4   Super League     FC Basel   0:0        FC Luzern         4-2-3-1   \n",
       "\n",
       "  basel_result  \n",
       "0            L  \n",
       "1            W  \n",
       "2            L  \n",
       "3            W  \n",
       "4            D  "
      ]
     },
     "execution_count": 3,
     "metadata": {},
     "output_type": "execute_result"
    }
   ],
   "source": [
    "df.head()"
   ]
  },
  {
   "cell_type": "code",
   "execution_count": 9,
   "id": "98719c05",
   "metadata": {},
   "outputs": [
    {
     "data": {
      "image/png": "[encoded data removed]",
      "text/plain": [
       "<Figure size 504x504 with 1 Axes>"
      ]
     },
     "metadata": {
      "needs_background": "light"
     },
     "output_type": "display_data"
    }
   ],
   "source": [
    "plt.figure(figsize=(7,7))\n",
    "df['basel_result'].hist();\n",
    "plt.title('Matches\\' results distribution',fontsize=18)\n",
    "plt.ylabel('Number of matches',fontsize=14)\n",
    "plt.xlabel('Result',fontsize=14)\n",
    "plt.show()"
   ]
  },
  {
   "cell_type": "markdown",
   "id": "84791daf",
   "metadata": {},
   "source": [
    "## What tournaments has the team participated in?"
   ]
  },
  {
   "cell_type": "code",
   "execution_count": 12,
   "id": "c16d362b",
   "metadata": {},
   "outputs": [
    {
     "data": {
      "text/plain": [
       "array(['Swiss Cup', 'Europa League', 'Super League',\n",
       "       'UEFA Champions League Qualifying', 'Europa League Qualifying'],\n",
       "      dtype=object)"
      ]
     },
     "execution_count": 12,
     "metadata": {},
     "output_type": "execute_result"
    }
   ],
   "source": [
    "df.competition.unique()"
   ]
  },
  {
   "cell_type": "markdown",
   "id": "8dd5fb3b",
   "metadata": {},
   "source": [
    "## what is the best tactic in general?"
   ]
  },
  {
   "cell_type": "code",
   "execution_count": 13,
   "id": "343a393a",
   "metadata": {},
   "outputs": [],
   "source": [
    "points=[]\n",
    "for i in range(len(df.basel_result)):\n",
    "    if df.basel_result[i]=='W':\n",
    "        points.append(3)\n",
    "    elif df.basel_result[i]=='L':\n",
    "        points.append(0)\n",
    "    else:\n",
    "        points.append(1)"
   ]
  },
  {
   "cell_type": "code",
   "execution_count": 14,
   "id": "bdbfff91",
   "metadata": {},
   "outputs": [],
   "source": [
    "df['points']=points"
   ]
  },
  {
   "cell_type": "code",
   "execution_count": 15,
   "id": "a1c6aed7",
   "metadata": {},
   "outputs": [
    {
     "data": {
      "text/html": [
       "<div>\n",
       "<style scoped>\n",
       "    .dataframe tbody tr th:only-of-type {\n",
       "        vertical-align: middle;\n",
       "    }\n",
       "\n",
       "    .dataframe tbody tr th {\n",
       "        vertical-align: top;\n",
       "    }\n",
       "\n",
       "    .dataframe thead th {\n",
       "        text-align: right;\n",
       "    }\n",
       "</style>\n",
       "<table border=\"1\" class=\"dataframe\">\n",
       "  <thead>\n",
       "    <tr style=\"text-align: right;\">\n",
       "      <th></th>\n",
       "      <th>competition</th>\n",
       "      <th>home_team</th>\n",
       "      <th>result</th>\n",
       "      <th>away_team</th>\n",
       "      <th>tactic</th>\n",
       "      <th>basel_result</th>\n",
       "      <th>points</th>\n",
       "    </tr>\n",
       "  </thead>\n",
       "  <tbody>\n",
       "    <tr>\n",
       "      <th>0</th>\n",
       "      <td>Swiss Cup</td>\n",
       "      <td>FC Basel</td>\n",
       "      <td>1:2</td>\n",
       "      <td>BSC Young Boys</td>\n",
       "      <td>4-4-2 double 6</td>\n",
       "      <td>L</td>\n",
       "      <td>0</td>\n",
       "    </tr>\n",
       "    <tr>\n",
       "      <th>1</th>\n",
       "      <td>Swiss Cup</td>\n",
       "      <td>FC Basel</td>\n",
       "      <td>6:1</td>\n",
       "      <td>FC Winterthur</td>\n",
       "      <td>4-4-2 double 6</td>\n",
       "      <td>W</td>\n",
       "      <td>3</td>\n",
       "    </tr>\n",
       "    <tr>\n",
       "      <th>2</th>\n",
       "      <td>Europa League</td>\n",
       "      <td>Shakhtar D.</td>\n",
       "      <td>4:1</td>\n",
       "      <td>FC Basel</td>\n",
       "      <td>4-1-4-1</td>\n",
       "      <td>L</td>\n",
       "      <td>0</td>\n",
       "    </tr>\n",
       "    <tr>\n",
       "      <th>3</th>\n",
       "      <td>Europa League</td>\n",
       "      <td>FC Basel</td>\n",
       "      <td>1:0</td>\n",
       "      <td>E. Frankfurt</td>\n",
       "      <td>4-2-3-1</td>\n",
       "      <td>W</td>\n",
       "      <td>3</td>\n",
       "    </tr>\n",
       "    <tr>\n",
       "      <th>4</th>\n",
       "      <td>Super League</td>\n",
       "      <td>FC Basel</td>\n",
       "      <td>0:0</td>\n",
       "      <td>FC Luzern</td>\n",
       "      <td>4-2-3-1</td>\n",
       "      <td>D</td>\n",
       "      <td>1</td>\n",
       "    </tr>\n",
       "  </tbody>\n",
       "</table>\n",
       "</div>"
      ],
      "text/plain": [
       "     competition    home_team result       away_team          tactic  \\\n",
       "0      Swiss Cup     FC Basel   1:2   BSC Young Boys  4-4-2 double 6   \n",
       "1      Swiss Cup     FC Basel   6:1    FC Winterthur  4-4-2 double 6   \n",
       "2  Europa League  Shakhtar D.   4:1         FC Basel         4-1-4-1   \n",
       "3  Europa League     FC Basel   1:0     E. Frankfurt         4-2-3-1   \n",
       "4   Super League     FC Basel   0:0        FC Luzern         4-2-3-1   \n",
       "\n",
       "  basel_result  points  \n",
       "0            L       0  \n",
       "1            W       3  \n",
       "2            L       0  \n",
       "3            W       3  \n",
       "4            D       1  "
      ]
     },
     "execution_count": 15,
     "metadata": {},
     "output_type": "execute_result"
    }
   ],
   "source": [
    "df.head()"
   ]
  },
  {
   "cell_type": "code",
   "execution_count": 16,
   "id": "68aff32e",
   "metadata": {},
   "outputs": [
    {
     "name": "stdout",
     "output_type": "stream",
     "text": [
      "<class 'pandas.core.frame.DataFrame'>\n",
      "RangeIndex: 101 entries, 0 to 100\n",
      "Data columns (total 7 columns):\n",
      " #   Column        Non-Null Count  Dtype \n",
      "---  ------        --------------  ----- \n",
      " 0   competition   101 non-null    object\n",
      " 1   home_team     101 non-null    object\n",
      " 2   result        101 non-null    object\n",
      " 3   away_team     101 non-null    object\n",
      " 4   tactic        101 non-null    object\n",
      " 5   basel_result  101 non-null    object\n",
      " 6   points        101 non-null    int64 \n",
      "dtypes: int64(1), object(6)\n",
      "memory usage: 5.6+ KB\n"
     ]
    }
   ],
   "source": [
    "df.info()"
   ]
  },
  {
   "cell_type": "code",
   "execution_count": 22,
   "id": "e4866103",
   "metadata": {},
   "outputs": [
    {
     "data": {
      "image/png": "[encoded data removed]",
      "text/plain": [
       "<Figure size 432x288 with 1 Axes>"
      ]
     },
     "metadata": {
      "needs_background": "light"
     },
     "output_type": "display_data"
    }
   ],
   "source": [
    "df.groupby('tactic')['points'].mean().plot(kind='bar');\n",
    "plt.title('Relation between tactic and average points',fontsize=18)\n",
    "plt.ylabel('Tactic',fontsize=14)\n",
    "plt.xlabel('Average points',fontsize=14)\n",
    "plt.show()"
   ]
  },
  {
   "cell_type": "markdown",
   "id": "7c929b4a",
   "metadata": {},
   "source": [
    "## in general 3-4-3 & 4-3-3 attacking has the highest points average but, at first we should see how many times this tactics used"
   ]
  },
  {
   "cell_type": "code",
   "execution_count": 18,
   "id": "94518464",
   "metadata": {},
   "outputs": [
    {
     "data": {
      "text/plain": [
       "4-2-3-1            90\n",
       "4-4-2 double 6      6\n",
       "4-1-4-1             1\n",
       "4-4-2               1\n",
       "3-4-2-1             1\n",
       "4-3-3 Attacking     1\n",
       "3-4-3               1\n",
       "Name: tactic, dtype: int64"
      ]
     },
     "execution_count": 18,
     "metadata": {},
     "output_type": "execute_result"
    }
   ],
   "source": [
    "df.tactic.value_counts()"
   ]
  },
  {
   "cell_type": "markdown",
   "id": "8df5e58d",
   "metadata": {},
   "source": [
    "## As we can see, we cannot judge any tactic except 4-2-3-1 & 4-4-2 double 6 \n",
    "# It's clear that 4-2-3-1 is the best tactic"
   ]
  },
  {
   "cell_type": "markdown",
   "id": "cb80e6e2",
   "metadata": {},
   "source": [
    "## What is the tactic used against direct competitors and big teams?"
   ]
  },
  {
   "cell_type": "code",
   "execution_count": null,
   "id": "25d0f77a",
   "metadata": {},
   "outputs": [],
   "source": [
    "# i choose the top leagues and matches with your direct competitor in the league to analyze them"
   ]
  },
  {
   "cell_type": "code",
   "execution_count": 28,
   "id": "15425bbb",
   "metadata": {},
   "outputs": [],
   "source": [
    "df1=df.query('competition == \"Europa League\"')"
   ]
  },
  {
   "cell_type": "markdown",
   "id": "1566bcd1",
   "metadata": {},
   "source": [
    "# this man shows great efforts in Europa League"
   ]
  },
  {
   "cell_type": "code",
   "execution_count": 46,
   "id": "5aa1a5c5",
   "metadata": {},
   "outputs": [
    {
     "data": {
      "image/png": "[encoded data removed]",
      "text/plain": [
       "<Figure size 360x360 with 1 Axes>"
      ]
     },
     "metadata": {
      "needs_background": "light"
     },
     "output_type": "display_data"
    }
   ],
   "source": [
    "plt.figure(figsize=(5,5))\n",
    "df.query('competition == \"Europa League\"')['basel_result'].hist();\n",
    "plt.title('Europa League results distributions',fontsize=18)\n",
    "plt.xlabel('Result',fontsize=14)\n",
    "plt.show()"
   ]
  },
  {
   "cell_type": "code",
   "execution_count": 29,
   "id": "6769c72d",
   "metadata": {},
   "outputs": [],
   "source": [
    "df2=df[df['home_team']==\"BSC Young Boys\"]"
   ]
  },
  {
   "cell_type": "code",
   "execution_count": 31,
   "id": "e965c750",
   "metadata": {},
   "outputs": [],
   "source": [
    "df3=df[df['away_team']==\"BSC Young Boys\"]"
   ]
  },
  {
   "cell_type": "code",
   "execution_count": 34,
   "id": "fdbfcdc4",
   "metadata": {},
   "outputs": [
    {
     "name": "stderr",
     "output_type": "stream",
     "text": [
      "C:\\Users\\Ahmed said\\AppData\\Local\\Temp\\ipykernel_8288\\3591658828.py:1: FutureWarning: The frame.append method is deprecated and will be removed from pandas in a future version. Use pandas.concat instead.\n",
      "  df1=df1.append(df2)\n"
     ]
    }
   ],
   "source": [
    "df1=df1.append(df2)"
   ]
  },
  {
   "cell_type": "code",
   "execution_count": 35,
   "id": "2410f309",
   "metadata": {},
   "outputs": [
    {
     "name": "stderr",
     "output_type": "stream",
     "text": [
      "C:\\Users\\Ahmed said\\AppData\\Local\\Temp\\ipykernel_8288\\2266375872.py:1: FutureWarning: The frame.append method is deprecated and will be removed from pandas in a future version. Use pandas.concat instead.\n",
      "  df1=df1.append(df3)\n"
     ]
    }
   ],
   "source": [
    "df1=df1.append(df3)"
   ]
  },
  {
   "cell_type": "code",
   "execution_count": null,
   "id": "949c1c67",
   "metadata": {},
   "outputs": [],
   "source": []
  },
  {
   "cell_type": "code",
   "execution_count": 38,
   "id": "f41d6cd5",
   "metadata": {},
   "outputs": [],
   "source": [
    "df4=df.query('competition == \"Europa League Qualifying\"')"
   ]
  },
  {
   "cell_type": "code",
   "execution_count": 40,
   "id": "60b29e64",
   "metadata": {},
   "outputs": [],
   "source": [
    "df5=df.query('competition == \"UEFA Champions League Qualifying\"')"
   ]
  },
  {
   "cell_type": "code",
   "execution_count": 41,
   "id": "7799a28d",
   "metadata": {},
   "outputs": [
    {
     "name": "stderr",
     "output_type": "stream",
     "text": [
      "C:\\Users\\Ahmed said\\AppData\\Local\\Temp\\ipykernel_8288\\1306335153.py:1: FutureWarning: The frame.append method is deprecated and will be removed from pandas in a future version. Use pandas.concat instead.\n",
      "  df1=df1.append(df4)\n"
     ]
    }
   ],
   "source": [
    "df1=df1.append(df4)"
   ]
  },
  {
   "cell_type": "code",
   "execution_count": 42,
   "id": "6fc51a69",
   "metadata": {},
   "outputs": [
    {
     "name": "stderr",
     "output_type": "stream",
     "text": [
      "C:\\Users\\Ahmed said\\AppData\\Local\\Temp\\ipykernel_8288\\1549571933.py:1: FutureWarning: The frame.append method is deprecated and will be removed from pandas in a future version. Use pandas.concat instead.\n",
      "  df1=df1.append(df5)\n"
     ]
    }
   ],
   "source": [
    "df1=df1.append(df5)"
   ]
  },
  {
   "cell_type": "code",
   "execution_count": 48,
   "id": "7d4d56a0",
   "metadata": {},
   "outputs": [
    {
     "data": {
      "image/png": "[encoded data removed]",
      "text/plain": [
       "<Figure size 360x360 with 1 Axes>"
      ]
     },
     "metadata": {
      "needs_background": "light"
     },
     "output_type": "display_data"
    }
   ],
   "source": [
    "plt.figure(figsize=(5,5))\n",
    "df1['basel_result'].hist();\n",
    "plt.title('top matches results distributions',fontsize=18)\n",
    "plt.xlabel('Result',fontsize=14)\n",
    "plt.show()\n",
    "# matches in UEFA Champions League Qualifying,Europa League Qualifying,vs BSC Young Boys,Europa League"
   ]
  },
  {
   "cell_type": "code",
   "execution_count": 49,
   "id": "4d2faef6",
   "metadata": {},
   "outputs": [
    {
     "name": "stderr",
     "output_type": "stream",
     "text": [
      "C:\\Users\\Ahmed said\\AppData\\Local\\Temp\\ipykernel_8288\\1983128949.py:1: FutureWarning: The frame.append method is deprecated and will be removed from pandas in a future version. Use pandas.concat instead.\n",
      "  df2=df2.append(df3)\n"
     ]
    }
   ],
   "source": [
    "df2=df2.append(df3)"
   ]
  },
  {
   "cell_type": "code",
   "execution_count": 51,
   "id": "fb46e1e0",
   "metadata": {},
   "outputs": [
    {
     "data": {
      "image/png": "[encoded data removed]",
      "text/plain": [
       "<Figure size 360x360 with 1 Axes>"
      ]
     },
     "metadata": {
      "needs_background": "light"
     },
     "output_type": "display_data"
    }
   ],
   "source": [
    "plt.figure(figsize=(5,5))\n",
    "df2['basel_result'].hist();\n",
    "plt.title('VS Young Boys results distributions',fontsize=18)\n",
    "plt.xlabel('Result',fontsize=14)\n",
    "plt.show()"
   ]
  },
  {
   "cell_type": "markdown",
   "id": "7912479c",
   "metadata": {},
   "source": [
    "## Poor results against the direct competitor"
   ]
  },
  {
   "cell_type": "code",
   "execution_count": null,
   "id": "51f13e85",
   "metadata": {},
   "outputs": [],
   "source": []
  },
  {
   "cell_type": "code",
   "execution_count": null,
   "id": "adf9d69d",
   "metadata": {},
   "outputs": [],
   "source": []
  },
  {
   "cell_type": "code",
   "execution_count": null,
   "id": "ffdcbe36",
   "metadata": {},
   "outputs": [],
   "source": []
  }
 ],
 "metadata": {
  "kernelspec": {
   "display_name": "Python 3 (ipykernel)",
   "language": "python",
   "name": "python3"
  },
  "language_info": {
   "codemirror_mode": {
    "name": "ipython",
    "version": 3
   },
   "file_extension": ".py",
   "mimetype": "text/x-python",
   "name": "python",
   "nbconvert_exporter": "python",
   "pygments_lexer": "ipython3",
   "version": "3.10.5"
  }
 },
 "nbformat": 4,
 "nbformat_minor": 5
}
